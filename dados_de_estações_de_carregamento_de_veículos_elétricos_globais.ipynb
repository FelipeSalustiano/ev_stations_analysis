{
  "nbformat": 4,
  "nbformat_minor": 0,
  "metadata": {
    "colab": {
      "provenance": []
    },
    "kernelspec": {
      "name": "python3",
      "display_name": "Python 3"
    },
    "language_info": {
      "name": "python"
    }
  },
  "cells": [
    {
      "cell_type": "code",
      "execution_count": 2,
      "metadata": {
        "id": "0fI-L-IpWFCi"
      },
      "outputs": [],
      "source": [
        "import pandas as pd\n",
        "import numpy as np"
      ]
    },
    {
      "cell_type": "code",
      "source": [
        "df = pd.read_csv('detailed_ev_charging_stations.csv')"
      ],
      "metadata": {
        "id": "6g7CeQdwWNa5"
      },
      "execution_count": 3,
      "outputs": []
    },
    {
      "cell_type": "code",
      "source": [
        "df.dtypes"
      ],
      "metadata": {
        "colab": {
          "base_uri": "https://localhost:8080/",
          "height": 617
        },
        "id": "Aee1HH8ZWYDp",
        "outputId": "e2890a35-8383-4a70-9ce5-60e12dd506c4"
      },
      "execution_count": 4,
      "outputs": [
        {
          "output_type": "execute_result",
          "data": {
            "text/plain": [
              "Station ID                      object\n",
              "Latitude                       float64\n",
              "Longitude                      float64\n",
              "Address                         object\n",
              "Charger Type                    object\n",
              "Cost (USD/kWh)                 float64\n",
              "Availability                    object\n",
              "Distance to City (km)          float64\n",
              "Usage Stats (avg users/day)      int64\n",
              "Station Operator                object\n",
              "Charging Capacity (kW)           int64\n",
              "Connector Types                 object\n",
              "Installation Year                int64\n",
              "Renewable Energy Source         object\n",
              "Reviews (Rating)               float64\n",
              "Parking Spots                    int64\n",
              "Maintenance Frequency           object\n",
              "dtype: object"
            ],
            "text/html": [
              "<div>\n",
              "<style scoped>\n",
              "    .dataframe tbody tr th:only-of-type {\n",
              "        vertical-align: middle;\n",
              "    }\n",
              "\n",
              "    .dataframe tbody tr th {\n",
              "        vertical-align: top;\n",
              "    }\n",
              "\n",
              "    .dataframe thead th {\n",
              "        text-align: right;\n",
              "    }\n",
              "</style>\n",
              "<table border=\"1\" class=\"dataframe\">\n",
              "  <thead>\n",
              "    <tr style=\"text-align: right;\">\n",
              "      <th></th>\n",
              "      <th>0</th>\n",
              "    </tr>\n",
              "  </thead>\n",
              "  <tbody>\n",
              "    <tr>\n",
              "      <th>Station ID</th>\n",
              "      <td>object</td>\n",
              "    </tr>\n",
              "    <tr>\n",
              "      <th>Latitude</th>\n",
              "      <td>float64</td>\n",
              "    </tr>\n",
              "    <tr>\n",
              "      <th>Longitude</th>\n",
              "      <td>float64</td>\n",
              "    </tr>\n",
              "    <tr>\n",
              "      <th>Address</th>\n",
              "      <td>object</td>\n",
              "    </tr>\n",
              "    <tr>\n",
              "      <th>Charger Type</th>\n",
              "      <td>object</td>\n",
              "    </tr>\n",
              "    <tr>\n",
              "      <th>Cost (USD/kWh)</th>\n",
              "      <td>float64</td>\n",
              "    </tr>\n",
              "    <tr>\n",
              "      <th>Availability</th>\n",
              "      <td>object</td>\n",
              "    </tr>\n",
              "    <tr>\n",
              "      <th>Distance to City (km)</th>\n",
              "      <td>float64</td>\n",
              "    </tr>\n",
              "    <tr>\n",
              "      <th>Usage Stats (avg users/day)</th>\n",
              "      <td>int64</td>\n",
              "    </tr>\n",
              "    <tr>\n",
              "      <th>Station Operator</th>\n",
              "      <td>object</td>\n",
              "    </tr>\n",
              "    <tr>\n",
              "      <th>Charging Capacity (kW)</th>\n",
              "      <td>int64</td>\n",
              "    </tr>\n",
              "    <tr>\n",
              "      <th>Connector Types</th>\n",
              "      <td>object</td>\n",
              "    </tr>\n",
              "    <tr>\n",
              "      <th>Installation Year</th>\n",
              "      <td>int64</td>\n",
              "    </tr>\n",
              "    <tr>\n",
              "      <th>Renewable Energy Source</th>\n",
              "      <td>object</td>\n",
              "    </tr>\n",
              "    <tr>\n",
              "      <th>Reviews (Rating)</th>\n",
              "      <td>float64</td>\n",
              "    </tr>\n",
              "    <tr>\n",
              "      <th>Parking Spots</th>\n",
              "      <td>int64</td>\n",
              "    </tr>\n",
              "    <tr>\n",
              "      <th>Maintenance Frequency</th>\n",
              "      <td>object</td>\n",
              "    </tr>\n",
              "  </tbody>\n",
              "</table>\n",
              "</div><br><label><b>dtype:</b> object</label>"
            ]
          },
          "metadata": {},
          "execution_count": 4
        }
      ]
    },
    {
      "cell_type": "code",
      "source": [
        "df.duplicated().sum()"
      ],
      "metadata": {
        "colab": {
          "base_uri": "https://localhost:8080/"
        },
        "id": "6SIWhpGjEr-0",
        "outputId": "1a2faede-6d50-49e9-c73f-c9bf46b0b18f"
      },
      "execution_count": 45,
      "outputs": [
        {
          "output_type": "execute_result",
          "data": {
            "text/plain": [
              "0"
            ]
          },
          "metadata": {},
          "execution_count": 45
        }
      ]
    },
    {
      "cell_type": "code",
      "source": [
        "df.isnull().sum()"
      ],
      "metadata": {
        "colab": {
          "base_uri": "https://localhost:8080/",
          "height": 617
        },
        "id": "AAHptQ3aWj7h",
        "outputId": "4495522e-b48b-48e4-b811-2b7bd81e3657"
      },
      "execution_count": 5,
      "outputs": [
        {
          "output_type": "execute_result",
          "data": {
            "text/plain": [
              "Station ID                     0\n",
              "Latitude                       0\n",
              "Longitude                      0\n",
              "Address                        0\n",
              "Charger Type                   0\n",
              "Cost (USD/kWh)                 0\n",
              "Availability                   0\n",
              "Distance to City (km)          0\n",
              "Usage Stats (avg users/day)    0\n",
              "Station Operator               0\n",
              "Charging Capacity (kW)         0\n",
              "Connector Types                0\n",
              "Installation Year              0\n",
              "Renewable Energy Source        0\n",
              "Reviews (Rating)               0\n",
              "Parking Spots                  0\n",
              "Maintenance Frequency          0\n",
              "dtype: int64"
            ],
            "text/html": [
              "<div>\n",
              "<style scoped>\n",
              "    .dataframe tbody tr th:only-of-type {\n",
              "        vertical-align: middle;\n",
              "    }\n",
              "\n",
              "    .dataframe tbody tr th {\n",
              "        vertical-align: top;\n",
              "    }\n",
              "\n",
              "    .dataframe thead th {\n",
              "        text-align: right;\n",
              "    }\n",
              "</style>\n",
              "<table border=\"1\" class=\"dataframe\">\n",
              "  <thead>\n",
              "    <tr style=\"text-align: right;\">\n",
              "      <th></th>\n",
              "      <th>0</th>\n",
              "    </tr>\n",
              "  </thead>\n",
              "  <tbody>\n",
              "    <tr>\n",
              "      <th>Station ID</th>\n",
              "      <td>0</td>\n",
              "    </tr>\n",
              "    <tr>\n",
              "      <th>Latitude</th>\n",
              "      <td>0</td>\n",
              "    </tr>\n",
              "    <tr>\n",
              "      <th>Longitude</th>\n",
              "      <td>0</td>\n",
              "    </tr>\n",
              "    <tr>\n",
              "      <th>Address</th>\n",
              "      <td>0</td>\n",
              "    </tr>\n",
              "    <tr>\n",
              "      <th>Charger Type</th>\n",
              "      <td>0</td>\n",
              "    </tr>\n",
              "    <tr>\n",
              "      <th>Cost (USD/kWh)</th>\n",
              "      <td>0</td>\n",
              "    </tr>\n",
              "    <tr>\n",
              "      <th>Availability</th>\n",
              "      <td>0</td>\n",
              "    </tr>\n",
              "    <tr>\n",
              "      <th>Distance to City (km)</th>\n",
              "      <td>0</td>\n",
              "    </tr>\n",
              "    <tr>\n",
              "      <th>Usage Stats (avg users/day)</th>\n",
              "      <td>0</td>\n",
              "    </tr>\n",
              "    <tr>\n",
              "      <th>Station Operator</th>\n",
              "      <td>0</td>\n",
              "    </tr>\n",
              "    <tr>\n",
              "      <th>Charging Capacity (kW)</th>\n",
              "      <td>0</td>\n",
              "    </tr>\n",
              "    <tr>\n",
              "      <th>Connector Types</th>\n",
              "      <td>0</td>\n",
              "    </tr>\n",
              "    <tr>\n",
              "      <th>Installation Year</th>\n",
              "      <td>0</td>\n",
              "    </tr>\n",
              "    <tr>\n",
              "      <th>Renewable Energy Source</th>\n",
              "      <td>0</td>\n",
              "    </tr>\n",
              "    <tr>\n",
              "      <th>Reviews (Rating)</th>\n",
              "      <td>0</td>\n",
              "    </tr>\n",
              "    <tr>\n",
              "      <th>Parking Spots</th>\n",
              "      <td>0</td>\n",
              "    </tr>\n",
              "    <tr>\n",
              "      <th>Maintenance Frequency</th>\n",
              "      <td>0</td>\n",
              "    </tr>\n",
              "  </tbody>\n",
              "</table>\n",
              "</div><br><label><b>dtype:</b> int64</label>"
            ]
          },
          "metadata": {},
          "execution_count": 5
        }
      ]
    },
    {
      "cell_type": "markdown",
      "source": [
        "**Qual é a média de custo por kWh das estações de carregamento?**"
      ],
      "metadata": {
        "id": "_BfV6i3kaNqU"
      }
    },
    {
      "cell_type": "code",
      "source": [
        "df['Cost (USD/kWh)'].mean()"
      ],
      "metadata": {
        "colab": {
          "base_uri": "https://localhost:8080/"
        },
        "id": "Hnb-7J4kSvlj",
        "outputId": "75089a3f-dbae-4315-b90f-fd5d75d8153c"
      },
      "execution_count": 22,
      "outputs": [
        {
          "output_type": "execute_result",
          "data": {
            "text/plain": [
              "0.300196"
            ]
          },
          "metadata": {},
          "execution_count": 22
        }
      ]
    },
    {
      "cell_type": "markdown",
      "source": [
        "**Quantas estações utilizam fontes de energia renovável?**"
      ],
      "metadata": {
        "id": "Qc2ury8tagFL"
      }
    },
    {
      "cell_type": "code",
      "source": [
        "df['Renewable Energy Source'].value_counts()"
      ],
      "metadata": {
        "colab": {
          "base_uri": "https://localhost:8080/",
          "height": 178
        },
        "id": "tSvcNhOPYJqM",
        "outputId": "9ad035f3-6edc-4f1b-9c14-50d9a6c6f004"
      },
      "execution_count": 7,
      "outputs": [
        {
          "output_type": "execute_result",
          "data": {
            "text/plain": [
              "Renewable Energy Source\n",
              "Yes    2566\n",
              "No     2434\n",
              "Name: count, dtype: int64"
            ],
            "text/html": [
              "<div>\n",
              "<style scoped>\n",
              "    .dataframe tbody tr th:only-of-type {\n",
              "        vertical-align: middle;\n",
              "    }\n",
              "\n",
              "    .dataframe tbody tr th {\n",
              "        vertical-align: top;\n",
              "    }\n",
              "\n",
              "    .dataframe thead th {\n",
              "        text-align: right;\n",
              "    }\n",
              "</style>\n",
              "<table border=\"1\" class=\"dataframe\">\n",
              "  <thead>\n",
              "    <tr style=\"text-align: right;\">\n",
              "      <th></th>\n",
              "      <th>count</th>\n",
              "    </tr>\n",
              "    <tr>\n",
              "      <th>Renewable Energy Source</th>\n",
              "      <th></th>\n",
              "    </tr>\n",
              "  </thead>\n",
              "  <tbody>\n",
              "    <tr>\n",
              "      <th>Yes</th>\n",
              "      <td>2566</td>\n",
              "    </tr>\n",
              "    <tr>\n",
              "      <th>No</th>\n",
              "      <td>2434</td>\n",
              "    </tr>\n",
              "  </tbody>\n",
              "</table>\n",
              "</div><br><label><b>dtype:</b> int64</label>"
            ]
          },
          "metadata": {},
          "execution_count": 7
        }
      ]
    },
    {
      "cell_type": "markdown",
      "source": [
        "Verificando a quantidade de estações que possuem fontes de energia renovável. **Conclusão:**\n",
        "- 2566 estações possuem fontes de energia renovável\n",
        "- 2434 que não possuem fontes de energia renovavel\n"
      ],
      "metadata": {
        "id": "vSyoX4FQYeqE"
      }
    },
    {
      "cell_type": "markdown",
      "source": [
        "**Qual é a média de avaliações (reviews) das estações?**"
      ],
      "metadata": {
        "id": "17lFlDvYatoM"
      }
    },
    {
      "cell_type": "code",
      "source": [
        "df.head()\n",
        "df['Reviews (Rating)'].mean().round()"
      ],
      "metadata": {
        "colab": {
          "base_uri": "https://localhost:8080/"
        },
        "id": "DHJXWSAtZ0aM",
        "outputId": "7806b3c8-667d-4d0f-d8d2-441c66f4bc38"
      },
      "execution_count": 8,
      "outputs": [
        {
          "output_type": "execute_result",
          "data": {
            "text/plain": [
              "4.0"
            ]
          },
          "metadata": {},
          "execution_count": 8
        }
      ]
    },
    {
      "cell_type": "markdown",
      "source": [
        "Em resposta, temos a conclusão que a média das avaliações das estações são de **4.0**"
      ],
      "metadata": {
        "id": "xFDJyvYgdYlL"
      }
    },
    {
      "cell_type": "markdown",
      "source": [
        "**Qual é o total de vagas de estacionamento disponíveis em todas as estações?**"
      ],
      "metadata": {
        "id": "m8xs09XvdAZW"
      }
    },
    {
      "cell_type": "code",
      "source": [
        "df.head()\n",
        "df['Parking Spots'].sum()"
      ],
      "metadata": {
        "colab": {
          "base_uri": "https://localhost:8080/"
        },
        "id": "ysBVUZTCdHi7",
        "outputId": "90bc17a1-829e-4cab-ed89-fa847205e606"
      },
      "execution_count": 9,
      "outputs": [
        {
          "output_type": "execute_result",
          "data": {
            "text/plain": [
              "27598"
            ]
          },
          "metadata": {},
          "execution_count": 9
        }
      ]
    },
    {
      "cell_type": "markdown",
      "source": [
        "O Total de vagas de estacionamento disponível para o carregamento dos carros elétircos é de **27598** lugares"
      ],
      "metadata": {
        "id": "oaGQSV5EdpU7"
      }
    },
    {
      "cell_type": "markdown",
      "source": [
        "**Quantas estações possuem carregamento rápido (por exemplo, acima de 50 kW)?**"
      ],
      "metadata": {
        "id": "9CuQpaFyd8Zj"
      }
    },
    {
      "cell_type": "code",
      "source": [
        "df.head()\n",
        "df[df['Charging Capacity (kW)'] > 50].shape[0]"
      ],
      "metadata": {
        "colab": {
          "base_uri": "https://localhost:8080/"
        },
        "id": "bfqiaUl5d95l",
        "outputId": "e769fc24-fc98-461f-996a-da7db63c1933"
      },
      "execution_count": 10,
      "outputs": [
        {
          "output_type": "execute_result",
          "data": {
            "text/plain": [
              "2539"
            ]
          },
          "metadata": {},
          "execution_count": 10
        }
      ]
    },
    {
      "cell_type": "markdown",
      "source": [
        "A quantidade de carrgeadores capacitados com o carregamento rápido (acima de 50 kW)é de **2539** carregadores"
      ],
      "metadata": {
        "id": "3QqLOusqeYpS"
      }
    },
    {
      "cell_type": "markdown",
      "source": [
        "**Qual é a média da capacidade de carregamento (kW) por tipo de conector?**"
      ],
      "metadata": {
        "id": "m-K9ptFGfXbz"
      }
    },
    {
      "cell_type": "code",
      "source": [
        "df.head(2)\n",
        "df.groupby('Connector Types')['Charging Capacity (kW)'].mean().round(2)"
      ],
      "metadata": {
        "colab": {
          "base_uri": "https://localhost:8080/",
          "height": 617
        },
        "id": "4IPfve6hfaFD",
        "outputId": "44dcfb8c-3b01-47ec-93f1-d267d4344a29"
      },
      "execution_count": 11,
      "outputs": [
        {
          "output_type": "execute_result",
          "data": {
            "text/plain": [
              "Connector Types\n",
              "CCS                150.49\n",
              "CCS, CHAdeMO       141.85\n",
              "CCS, Tesla         133.00\n",
              "CCS, Type 2        143.80\n",
              "CHAdeMO            141.71\n",
              "CHAdeMO, CCS       148.91\n",
              "CHAdeMO, Tesla     145.61\n",
              "CHAdeMO, Type 2    145.46\n",
              "Tesla              143.57\n",
              "Tesla, CCS         138.42\n",
              "Tesla, CHAdeMO     145.26\n",
              "Tesla, Type 2      148.48\n",
              "Type 2             141.42\n",
              "Type 2, CCS        140.06\n",
              "Type 2, CHAdeMO    158.76\n",
              "Type 2, Tesla      140.15\n",
              "Name: Charging Capacity (kW), dtype: float64"
            ],
            "text/html": [
              "<div>\n",
              "<style scoped>\n",
              "    .dataframe tbody tr th:only-of-type {\n",
              "        vertical-align: middle;\n",
              "    }\n",
              "\n",
              "    .dataframe tbody tr th {\n",
              "        vertical-align: top;\n",
              "    }\n",
              "\n",
              "    .dataframe thead th {\n",
              "        text-align: right;\n",
              "    }\n",
              "</style>\n",
              "<table border=\"1\" class=\"dataframe\">\n",
              "  <thead>\n",
              "    <tr style=\"text-align: right;\">\n",
              "      <th></th>\n",
              "      <th>Charging Capacity (kW)</th>\n",
              "    </tr>\n",
              "    <tr>\n",
              "      <th>Connector Types</th>\n",
              "      <th></th>\n",
              "    </tr>\n",
              "  </thead>\n",
              "  <tbody>\n",
              "    <tr>\n",
              "      <th>CCS</th>\n",
              "      <td>150.49</td>\n",
              "    </tr>\n",
              "    <tr>\n",
              "      <th>CCS, CHAdeMO</th>\n",
              "      <td>141.85</td>\n",
              "    </tr>\n",
              "    <tr>\n",
              "      <th>CCS, Tesla</th>\n",
              "      <td>133.00</td>\n",
              "    </tr>\n",
              "    <tr>\n",
              "      <th>CCS, Type 2</th>\n",
              "      <td>143.80</td>\n",
              "    </tr>\n",
              "    <tr>\n",
              "      <th>CHAdeMO</th>\n",
              "      <td>141.71</td>\n",
              "    </tr>\n",
              "    <tr>\n",
              "      <th>CHAdeMO, CCS</th>\n",
              "      <td>148.91</td>\n",
              "    </tr>\n",
              "    <tr>\n",
              "      <th>CHAdeMO, Tesla</th>\n",
              "      <td>145.61</td>\n",
              "    </tr>\n",
              "    <tr>\n",
              "      <th>CHAdeMO, Type 2</th>\n",
              "      <td>145.46</td>\n",
              "    </tr>\n",
              "    <tr>\n",
              "      <th>Tesla</th>\n",
              "      <td>143.57</td>\n",
              "    </tr>\n",
              "    <tr>\n",
              "      <th>Tesla, CCS</th>\n",
              "      <td>138.42</td>\n",
              "    </tr>\n",
              "    <tr>\n",
              "      <th>Tesla, CHAdeMO</th>\n",
              "      <td>145.26</td>\n",
              "    </tr>\n",
              "    <tr>\n",
              "      <th>Tesla, Type 2</th>\n",
              "      <td>148.48</td>\n",
              "    </tr>\n",
              "    <tr>\n",
              "      <th>Type 2</th>\n",
              "      <td>141.42</td>\n",
              "    </tr>\n",
              "    <tr>\n",
              "      <th>Type 2, CCS</th>\n",
              "      <td>140.06</td>\n",
              "    </tr>\n",
              "    <tr>\n",
              "      <th>Type 2, CHAdeMO</th>\n",
              "      <td>158.76</td>\n",
              "    </tr>\n",
              "    <tr>\n",
              "      <th>Type 2, Tesla</th>\n",
              "      <td>140.15</td>\n",
              "    </tr>\n",
              "  </tbody>\n",
              "</table>\n",
              "</div><br><label><b>dtype:</b> float64</label>"
            ]
          },
          "metadata": {},
          "execution_count": 11
        }
      ]
    },
    {
      "cell_type": "code",
      "source": [
        "import matplotlib.pyplot as plt"
      ],
      "metadata": {
        "id": "XiW8p2Amg8Fr"
      },
      "execution_count": 12,
      "outputs": []
    },
    {
      "cell_type": "code",
      "source": [
        "mean_capacity_by_connector = df.groupby('Connector Types')['Charging Capacity (kW)'].mean().round(2)\n",
        "mean_capacity_by_connector.plot(kind='bar', color='skyblue')\n",
        "plt.title('Média de Capacidade de Carregamento por Tipo de Conector')\n",
        "plt.xlabel('Tipo de Conector')\n",
        "plt.ylabel('Média de Capacidade (kW)')\n",
        "plt.xticks(rotation=90)\n",
        "plt.show"
      ],
      "metadata": {
        "colab": {
          "base_uri": "https://localhost:8080/",
          "height": 752
        },
        "id": "PYXiMhIzhFnT",
        "outputId": "3952d0fd-08f2-424d-f15d-709eaac0122f"
      },
      "execution_count": 13,
      "outputs": [
        {
          "output_type": "execute_result",
          "data": {
            "text/plain": [
              "<function matplotlib.pyplot.show(close=None, block=None)>"
            ],
            "text/html": [
              "<div style=\"max-width:800px; border: 1px solid var(--colab-border-color);\"><style>\n",
              "      pre.function-repr-contents {\n",
              "        overflow-x: auto;\n",
              "        padding: 8px 12px;\n",
              "        max-height: 500px;\n",
              "      }\n",
              "\n",
              "      pre.function-repr-contents.function-repr-contents-collapsed {\n",
              "        cursor: pointer;\n",
              "        max-height: 100px;\n",
              "      }\n",
              "    </style>\n",
              "    <pre style=\"white-space: initial; background:\n",
              "         var(--colab-secondary-surface-color); padding: 8px 12px;\n",
              "         border-bottom: 1px solid var(--colab-border-color);\"><b>matplotlib.pyplot.show</b><br/>def show(*args, **kwargs) -&gt; None</pre><pre class=\"function-repr-contents function-repr-contents-collapsed\" style=\"\"><a class=\"filepath\" style=\"display:none\" href=\"#\">/usr/local/lib/python3.11/dist-packages/matplotlib/pyplot.py</a>Display all open figures.\n",
              "\n",
              "Parameters\n",
              "----------\n",
              "block : bool, optional\n",
              "    Whether to wait for all figures to be closed before returning.\n",
              "\n",
              "    If `True` block and run the GUI main loop until all figure windows\n",
              "    are closed.\n",
              "\n",
              "    If `False` ensure that all figure windows are displayed and return\n",
              "    immediately.  In this case, you are responsible for ensuring\n",
              "    that the event loop is running to have responsive figures.\n",
              "\n",
              "    Defaults to True in non-interactive mode and to False in interactive\n",
              "    mode (see `.pyplot.isinteractive`).\n",
              "\n",
              "See Also\n",
              "--------\n",
              "ion : Enable interactive mode, which shows / updates the figure after\n",
              "      every plotting command, so that calling ``show()`` is not necessary.\n",
              "ioff : Disable interactive mode.\n",
              "savefig : Save the figure to an image file instead of showing it on screen.\n",
              "\n",
              "Notes\n",
              "-----\n",
              "**Saving figures to file and showing a window at the same time**\n",
              "\n",
              "If you want an image file as well as a user interface window, use\n",
              "`.pyplot.savefig` before `.pyplot.show`. At the end of (a blocking)\n",
              "``show()`` the figure is closed and thus unregistered from pyplot. Calling\n",
              "`.pyplot.savefig` afterwards would save a new and thus empty figure. This\n",
              "limitation of command order does not apply if the show is non-blocking or\n",
              "if you keep a reference to the figure and use `.Figure.savefig`.\n",
              "\n",
              "**Auto-show in jupyter notebooks**\n",
              "\n",
              "The jupyter backends (activated via ``%matplotlib inline``,\n",
              "``%matplotlib notebook``, or ``%matplotlib widget``), call ``show()`` at\n",
              "the end of every cell by default. Thus, you usually don&#x27;t have to call it\n",
              "explicitly there.</pre>\n",
              "      <script>\n",
              "      if (google.colab.kernel.accessAllowed && google.colab.files && google.colab.files.view) {\n",
              "        for (const element of document.querySelectorAll('.filepath')) {\n",
              "          element.style.display = 'block'\n",
              "          element.onclick = (event) => {\n",
              "            event.preventDefault();\n",
              "            event.stopPropagation();\n",
              "            google.colab.files.view(element.textContent, 569);\n",
              "          };\n",
              "        }\n",
              "      }\n",
              "      for (const element of document.querySelectorAll('.function-repr-contents')) {\n",
              "        element.onclick = (event) => {\n",
              "          event.preventDefault();\n",
              "          event.stopPropagation();\n",
              "          element.classList.toggle('function-repr-contents-collapsed');\n",
              "        };\n",
              "      }\n",
              "      </script>\n",
              "      </div>"
            ]
          },
          "metadata": {},
          "execution_count": 13
        },
        {
          "output_type": "display_data",
          "data": {
            "text/plain": [
              "<Figure size 640x480 with 1 Axes>"
            ],
            "image/png": "[encoded data removed]"
          },
          "metadata": {}
        }
      ]
    },
    {
      "cell_type": "markdown",
      "source": [
        "**Existe correlação entre a capacidade de carregamento (kW) e o número médio de usuários por dia?**"
      ],
      "metadata": {
        "id": "JRlkdvybiCzW"
      }
    },
    {
      "cell_type": "code",
      "source": [
        "df.head(2)\n",
        "df[['Charging Capacity (kW)', 'Usage Stats (avg users/day)']].corr()"
      ],
      "metadata": {
        "colab": {
          "base_uri": "https://localhost:8080/",
          "height": 112
        },
        "id": "oCjx42z6iDsO",
        "outputId": "7ff1849c-f290-4f30-860c-264316fed406"
      },
      "execution_count": 14,
      "outputs": [
        {
          "output_type": "execute_result",
          "data": {
            "text/plain": [
              "                             Charging Capacity (kW)  \\\n",
              "Charging Capacity (kW)                     1.000000   \n",
              "Usage Stats (avg users/day)               -0.017878   \n",
              "\n",
              "                             Usage Stats (avg users/day)  \n",
              "Charging Capacity (kW)                         -0.017878  \n",
              "Usage Stats (avg users/day)                     1.000000  "
            ],
            "text/html": [
              "\n",
              "  <div id=\"df-aef1a034-e25d-4d2c-ad10-5500e547a9ac\" class=\"colab-df-container\">\n",
              "    <div>\n",
              "<style scoped>\n",
              "    .dataframe tbody tr th:only-of-type {\n",
              "        vertical-align: middle;\n",
              "    }\n",
              "\n",
              "    .dataframe tbody tr th {\n",
              "        vertical-align: top;\n",
              "    }\n",
              "\n",
              "    .dataframe thead th {\n",
              "        text-align: right;\n",
              "    }\n",
              "</style>\n",
              "<table border=\"1\" class=\"dataframe\">\n",
              "  <thead>\n",
              "    <tr style=\"text-align: right;\">\n",
              "      <th></th>\n",
              "      <th>Charging Capacity (kW)</th>\n",
              "      <th>Usage Stats (avg users/day)</th>\n",
              "    </tr>\n",
              "  </thead>\n",
              "  <tbody>\n",
              "    <tr>\n",
              "      <th>Charging Capacity (kW)</th>\n",
              "      <td>1.000000</td>\n",
              "      <td>-0.017878</td>\n",
              "    </tr>\n",
              "    <tr>\n",
              "      <th>Usage Stats (avg users/day)</th>\n",
              "      <td>-0.017878</td>\n",
              "      <td>1.000000</td>\n",
              "    </tr>\n",
              "  </tbody>\n",
              "</table>\n",
              "</div>\n",
              "    <div class=\"colab-df-buttons\">\n",
              "\n",
              "  <div class=\"colab-df-container\">\n",
              "    <button class=\"colab-df-convert\" onclick=\"convertToInteractive('df-aef1a034-e25d-4d2c-ad10-5500e547a9ac')\"\n",
              "            title=\"Convert this dataframe to an interactive table.\"\n",
              "            style=\"display:none;\">\n",
              "\n",
              "  <svg xmlns=\"http://www.w3.org/2000/svg\" height=\"24px\" viewBox=\"0 -960 960 960\">\n",
              "    <path d=\"M120-120v-720h720v720H120Zm60-500h600v-160H180v160Zm220 220h160v-160H400v160Zm0 220h160v-160H400v160ZM180-400h160v-160H180v160Zm440 0h160v-160H620v160ZM180-180h160v-160H180v160Zm440 0h160v-160H620v160Z\"/>\n",
              "  </svg>\n",
              "    </button>\n",
              "\n",
              "  <style>\n",
              "    .colab-df-container {\n",
              "      display:flex;\n",
              "      gap: 12px;\n",
              "    }\n",
              "\n",
              "    .colab-df-convert {\n",
              "      background-color: #E8F0FE;\n",
              "      border: none;\n",
              "      border-radius: 50%;\n",
              "      cursor: pointer;\n",
              "      display: none;\n",
              "      fill: #1967D2;\n",
              "      height: 32px;\n",
              "      padding: 0 0 0 0;\n",
              "      width: 32px;\n",
              "    }\n",
              "\n",
              "    .colab-df-convert:hover {\n",
              "      background-color: #E2EBFA;\n",
              "      box-shadow: 0px 1px 2px rgba(60, 64, 67, 0.3), 0px 1px 3px 1px rgba(60, 64, 67, 0.15);\n",
              "      fill: #174EA6;\n",
              "    }\n",
              "\n",
              "    .colab-df-buttons div {\n",
              "      margin-bottom: 4px;\n",
              "    }\n",
              "\n",
              "    [theme=dark] .colab-df-convert {\n",
              "      background-color: #3B4455;\n",
              "      fill: #D2E3FC;\n",
              "    }\n",
              "\n",
              "    [theme=dark] .colab-df-convert:hover {\n",
              "      background-color: #434B5C;\n",
              "      box-shadow: 0px 1px 3px 1px rgba(0, 0, 0, 0.15);\n",
              "      filter: drop-shadow(0px 1px 2px rgba(0, 0, 0, 0.3));\n",
              "      fill: #FFFFFF;\n",
              "    }\n",
              "  </style>\n",
              "\n",
              "    <script>\n",
              "      const buttonEl =\n",
              "        document.querySelector('#df-aef1a034-e25d-4d2c-ad10-5500e547a9ac button.colab-df-convert');\n",
              "      buttonEl.style.display =\n",
              "        google.colab.kernel.accessAllowed ? 'block' : 'none';\n",
              "\n",
              "      async function convertToInteractive(key) {\n",
              "        const element = document.querySelector('#df-aef1a034-e25d-4d2c-ad10-5500e547a9ac');\n",
              "        const dataTable =\n",
              "          await google.colab.kernel.invokeFunction('convertToInteractive',\n",
              "                                                    [key], {});\n",
              "        if (!dataTable) return;\n",
              "\n",
              "        const docLinkHtml = 'Like what you see? Visit the ' +\n",
              "          '<a target=\"_blank\" href=https://colab.research.google.com/notebooks/data_table.ipynb>data table notebook</a>'\n",
              "          + ' to learn more about interactive tables.';\n",
              "        element.innerHTML = '';\n",
              "        dataTable['output_type'] = 'display_data';\n",
              "        await google.colab.output.renderOutput(dataTable, element);\n",
              "        const docLink = document.createElement('div');\n",
              "        docLink.innerHTML = docLinkHtml;\n",
              "        element.appendChild(docLink);\n",
              "      }\n",
              "    </script>\n",
              "  </div>\n",
              "\n",
              "\n",
              "<div id=\"df-81cb0443-8ff7-452c-8d20-740e955bba83\">\n",
              "  <button class=\"colab-df-quickchart\" onclick=\"quickchart('df-81cb0443-8ff7-452c-8d20-740e955bba83')\"\n",
              "            title=\"Suggest charts\"\n",
              "            style=\"display:none;\">\n",
              "\n",
              "<svg xmlns=\"http://www.w3.org/2000/svg\" height=\"24px\"viewBox=\"0 0 24 24\"\n",
              "     width=\"24px\">\n",
              "    <g>\n",
              "        <path d=\"M19 3H5c-1.1 0-2 .9-2 2v14c0 1.1.9 2 2 2h14c1.1 0 2-.9 2-2V5c0-1.1-.9-2-2-2zM9 17H7v-7h2v7zm4 0h-2V7h2v10zm4 0h-2v-4h2v4z\"/>\n",
              "    </g>\n",
              "</svg>\n",
              "  </button>\n",
              "\n",
              "<style>\n",
              "  .colab-df-quickchart {\n",
              "      --bg-color: #E8F0FE;\n",
              "      --fill-color: #1967D2;\n",
              "      --hover-bg-color: #E2EBFA;\n",
              "      --hover-fill-color: #174EA6;\n",
              "      --disabled-fill-color: #AAA;\n",
              "      --disabled-bg-color: #DDD;\n",
              "  }\n",
              "\n",
              "  [theme=dark] .colab-df-quickchart {\n",
              "      --bg-color: #3B4455;\n",
              "      --fill-color: #D2E3FC;\n",
              "      --hover-bg-color: #434B5C;\n",
              "      --hover-fill-color: #FFFFFF;\n",
              "      --disabled-bg-color: #3B4455;\n",
              "      --disabled-fill-color: #666;\n",
              "  }\n",
              "\n",
              "  .colab-df-quickchart {\n",
              "    background-color: var(--bg-color);\n",
              "    border: none;\n",
              "    border-radius: 50%;\n",
              "    cursor: pointer;\n",
              "    display: none;\n",
              "    fill: var(--fill-color);\n",
              "    height: 32px;\n",
              "    padding: 0;\n",
              "    width: 32px;\n",
              "  }\n",
              "\n",
              "  .colab-df-quickchart:hover {\n",
              "    background-color: var(--hover-bg-color);\n",
              "    box-shadow: 0 1px 2px rgba(60, 64, 67, 0.3), 0 1px 3px 1px rgba(60, 64, 67, 0.15);\n",
              "    fill: var(--button-hover-fill-color);\n",
              "  }\n",
              "\n",
              "  .colab-df-quickchart-complete:disabled,\n",
              "  .colab-df-quickchart-complete:disabled:hover {\n",
              "    background-color: var(--disabled-bg-color);\n",
              "    fill: var(--disabled-fill-color);\n",
              "    box-shadow: none;\n",
              "  }\n",
              "\n",
              "  .colab-df-spinner {\n",
              "    border: 2px solid var(--fill-color);\n",
              "    border-color: transparent;\n",
              "    border-bottom-color: var(--fill-color);\n",
              "    animation:\n",
              "      spin 1s steps(1) infinite;\n",
              "  }\n",
              "\n",
              "  @keyframes spin {\n",
              "    0% {\n",
              "      border-color: transparent;\n",
              "      border-bottom-color: var(--fill-color);\n",
              "      border-left-color: var(--fill-color);\n",
              "    }\n",
              "    20% {\n",
              "      border-color: transparent;\n",
              "      border-left-color: var(--fill-color);\n",
              "      border-top-color: var(--fill-color);\n",
              "    }\n",
              "    30% {\n",
              "      border-color: transparent;\n",
              "      border-left-color: var(--fill-color);\n",
              "      border-top-color: var(--fill-color);\n",
              "      border-right-color: var(--fill-color);\n",
              "    }\n",
              "    40% {\n",
              "      border-color: transparent;\n",
              "      border-right-color: var(--fill-color);\n",
              "      border-top-color: var(--fill-color);\n",
              "    }\n",
              "    60% {\n",
              "      border-color: transparent;\n",
              "      border-right-color: var(--fill-color);\n",
              "    }\n",
              "    80% {\n",
              "      border-color: transparent;\n",
              "      border-right-color: var(--fill-color);\n",
              "      border-bottom-color: var(--fill-color);\n",
              "    }\n",
              "    90% {\n",
              "      border-color: transparent;\n",
              "      border-bottom-color: var(--fill-color);\n",
              "    }\n",
              "  }\n",
              "</style>\n",
              "\n",
              "  <script>\n",
              "    async function quickchart(key) {\n",
              "      const quickchartButtonEl =\n",
              "        document.querySelector('#' + key + ' button');\n",
              "      quickchartButtonEl.disabled = true;  // To prevent multiple clicks.\n",
              "      quickchartButtonEl.classList.add('colab-df-spinner');\n",
              "      try {\n",
              "        const charts = await google.colab.kernel.invokeFunction(\n",
              "            'suggestCharts', [key], {});\n",
              "      } catch (error) {\n",
              "        console.error('Error during call to suggestCharts:', error);\n",
              "      }\n",
              "      quickchartButtonEl.classList.remove('colab-df-spinner');\n",
              "      quickchartButtonEl.classList.add('colab-df-quickchart-complete');\n",
              "    }\n",
              "    (() => {\n",
              "      let quickchartButtonEl =\n",
              "        document.querySelector('#df-81cb0443-8ff7-452c-8d20-740e955bba83 button');\n",
              "      quickchartButtonEl.style.display =\n",
              "        google.colab.kernel.accessAllowed ? 'block' : 'none';\n",
              "    })();\n",
              "  </script>\n",
              "</div>\n",
              "\n",
              "    </div>\n",
              "  </div>\n"
            ],
            "application/vnd.google.colaboratory.intrinsic+json": {
              "type": "dataframe",
              "summary": "{\n  \"name\": \"df[['Charging Capacity (kW)', 'Usage Stats (avg users/day)']]\",\n  \"rows\": 2,\n  \"fields\": [\n    {\n      \"column\": \"Charging Capacity (kW)\",\n      \"properties\": {\n        \"dtype\": \"number\",\n        \"std\": 0.7197482935834301,\n        \"min\": -0.017877798280579022,\n        \"max\": 1.0,\n        \"num_unique_values\": 2,\n        \"samples\": [\n          -0.017877798280579022,\n          1.0\n        ],\n        \"semantic_type\": \"\",\n        \"description\": \"\"\n      }\n    },\n    {\n      \"column\": \"Usage Stats (avg users/day)\",\n      \"properties\": {\n        \"dtype\": \"number\",\n        \"std\": 0.7197482935834301,\n        \"min\": -0.017877798280579022,\n        \"max\": 1.0,\n        \"num_unique_values\": 2,\n        \"samples\": [\n          1.0,\n          -0.017877798280579022\n        ],\n        \"semantic_type\": \"\",\n        \"description\": \"\"\n      }\n    }\n  ]\n}"
            }
          },
          "metadata": {},
          "execution_count": 14
        }
      ]
    },
    {
      "cell_type": "markdown",
      "source": [
        "A correlação entre a capacidade de carregamento e o número médio de usuários por dia é extremamente baixa, ou seja, praticamente não a correlação"
      ],
      "metadata": {
        "id": "065kJ9M5kmAq"
      }
    },
    {
      "cell_type": "markdown",
      "source": [
        "**Qual o custo médio por kWh para estações que utilizam energia renovável vs. não renovável?**"
      ],
      "metadata": {
        "id": "LVzcLceh7wB6"
      }
    },
    {
      "cell_type": "code",
      "source": [
        "df.head(2)\n",
        "df.groupby('Renewable Energy Source')['Cost (USD/kWh)'].mean()"
      ],
      "metadata": {
        "colab": {
          "base_uri": "https://localhost:8080/",
          "height": 178
        },
        "id": "c-XeCyf27z6A",
        "outputId": "a7f9bc07-6ecb-4ca6-bd97-1cffc7a19945"
      },
      "execution_count": 24,
      "outputs": [
        {
          "output_type": "execute_result",
          "data": {
            "text/plain": [
              "Renewable Energy Source\n",
              "No     0.299006\n",
              "Yes    0.301325\n",
              "Name: Cost (USD/kWh), dtype: float64"
            ],
            "text/html": [
              "<div>\n",
              "<style scoped>\n",
              "    .dataframe tbody tr th:only-of-type {\n",
              "        vertical-align: middle;\n",
              "    }\n",
              "\n",
              "    .dataframe tbody tr th {\n",
              "        vertical-align: top;\n",
              "    }\n",
              "\n",
              "    .dataframe thead th {\n",
              "        text-align: right;\n",
              "    }\n",
              "</style>\n",
              "<table border=\"1\" class=\"dataframe\">\n",
              "  <thead>\n",
              "    <tr style=\"text-align: right;\">\n",
              "      <th></th>\n",
              "      <th>Cost (USD/kWh)</th>\n",
              "    </tr>\n",
              "    <tr>\n",
              "      <th>Renewable Energy Source</th>\n",
              "      <th></th>\n",
              "    </tr>\n",
              "  </thead>\n",
              "  <tbody>\n",
              "    <tr>\n",
              "      <th>No</th>\n",
              "      <td>0.299006</td>\n",
              "    </tr>\n",
              "    <tr>\n",
              "      <th>Yes</th>\n",
              "      <td>0.301325</td>\n",
              "    </tr>\n",
              "  </tbody>\n",
              "</table>\n",
              "</div><br><label><b>dtype:</b> float64</label>"
            ]
          },
          "metadata": {},
          "execution_count": 24
        }
      ]
    },
    {
      "cell_type": "code",
      "source": [
        "plt.figure(figsize=(8, 6))\n",
        "mean_cost_energy_sourse =df.groupby('Renewable Energy Source')['Cost (USD/kWh)'].mean()\n",
        "mean_cost_energy_sourse.plot(kind='barh', color=['skyblue', 'lightcoral'])\n",
        "plt.title('Custo Médio por kWh para Estações Renováveis vs. Não Renováveis')\n",
        "plt.xlabel('Tipo de Energia Renovável')\n",
        "plt.ylabel('Custo Médio por kWh')\n",
        "plt.xlim(left=mean_cost_energy_sourse.min() * 0.9)\n",
        "plt.grid(axis='x', linestyle='--', alpha=0.7)\n",
        "plt.show()"
      ],
      "metadata": {
        "colab": {
          "base_uri": "https://localhost:8080/",
          "height": 565
        },
        "id": "fzD2eOV4CEqR",
        "outputId": "febec3e5-df21-4bf9-f355-a2ea1387ffb5"
      },
      "execution_count": 69,
      "outputs": [
        {
          "output_type": "display_data",
          "data": {
            "text/plain": [
              "<Figure size 800x600 with 1 Axes>"
            ],
            "image/png": "[encoded data removed]"
          },
          "metadata": {}
        }
      ]
    },
    {
      "cell_type": "markdown",
      "source": [
        "A diferença é muito pequena quando coolocado no gráfico, porém concluímos que o custo médio para as estações que utilizam a energia do tipo renovável é maior"
      ],
      "metadata": {
        "id": "mMP40jMPDjzg"
      }
    },
    {
      "cell_type": "markdown",
      "source": [
        "**Quais são os 3 operadores de estação com maior número de pontos de carregamento?**"
      ],
      "metadata": {
        "id": "VLNZHe1lEQ6X"
      }
    },
    {
      "cell_type": "code",
      "source": [
        "df.groupby('Station Operator')['Parking Spots'].sum().sort_values(ascending=False).head(3)"
      ],
      "metadata": {
        "colab": {
          "base_uri": "https://localhost:8080/",
          "height": 210
        },
        "id": "1ost90rDEH3V",
        "outputId": "590e62e0-d587-49f9-db35-0272e0bb7d96"
      },
      "execution_count": 50,
      "outputs": [
        {
          "output_type": "execute_result",
          "data": {
            "text/plain": [
              "Station Operator\n",
              "Tesla          5680\n",
              "EVgo           5579\n",
              "ChargePoint    5540\n",
              "Name: Parking Spots, dtype: int64"
            ],
            "text/html": [
              "<div>\n",
              "<style scoped>\n",
              "    .dataframe tbody tr th:only-of-type {\n",
              "        vertical-align: middle;\n",
              "    }\n",
              "\n",
              "    .dataframe tbody tr th {\n",
              "        vertical-align: top;\n",
              "    }\n",
              "\n",
              "    .dataframe thead th {\n",
              "        text-align: right;\n",
              "    }\n",
              "</style>\n",
              "<table border=\"1\" class=\"dataframe\">\n",
              "  <thead>\n",
              "    <tr style=\"text-align: right;\">\n",
              "      <th></th>\n",
              "      <th>Parking Spots</th>\n",
              "    </tr>\n",
              "    <tr>\n",
              "      <th>Station Operator</th>\n",
              "      <th></th>\n",
              "    </tr>\n",
              "  </thead>\n",
              "  <tbody>\n",
              "    <tr>\n",
              "      <th>Tesla</th>\n",
              "      <td>5680</td>\n",
              "    </tr>\n",
              "    <tr>\n",
              "      <th>EVgo</th>\n",
              "      <td>5579</td>\n",
              "    </tr>\n",
              "    <tr>\n",
              "      <th>ChargePoint</th>\n",
              "      <td>5540</td>\n",
              "    </tr>\n",
              "  </tbody>\n",
              "</table>\n",
              "</div><br><label><b>dtype:</b> int64</label>"
            ]
          },
          "metadata": {},
          "execution_count": 50
        }
      ]
    },
    {
      "cell_type": "code",
      "source": [
        "most_station_infrastructure = df.groupby('Station Operator')['Parking Spots'].sum().sort_values(ascending=False).head(3)\n",
        "\n",
        "colors = ['lightblue' if x < most_station_infrastructure.max() else 'royalblue' for x in most_station_infrastructure]\n",
        "\n",
        "plt.figure(figsize=(8, 6))\n",
        "bars = most_station_infrastructure.plot(kind='barh', color=colors, edgecolor='black')\n",
        "\n",
        "plt.title('Os 3 Operadores de Estação com Maior Número de Postos de Carregamento')\n",
        "plt.xlabel('Número de Postos de Carregamento')\n",
        "plt.ylabel('Operador de Estação')\n",
        "plt.xlim(left=most_station_infrastructure.min() * 0.9)\n",
        "plt.grid(axis='x', linestyle='--', alpha=0.7)\n",
        "plt.show()\n"
      ],
      "metadata": {
        "colab": {
          "base_uri": "https://localhost:8080/",
          "height": 565
        },
        "id": "FSpiq0rLI8tt",
        "outputId": "9f5acf86-d212-4264-e226-79e3c24a97d6"
      },
      "execution_count": 61,
      "outputs": [
        {
          "output_type": "display_data",
          "data": {
            "text/plain": [
              "<Figure size 800x600 with 1 Axes>"
            ],
            "image/png": "[encoded data removed]"
          },
          "metadata": {}
        }
      ]
    }
  ]
}